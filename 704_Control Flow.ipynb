{
 "cells": [
  {
   "cell_type": "markdown",
   "metadata": {},
   "source": [
    "# Python If-else statements"
   ]
  },
  {
   "cell_type": "markdown",
   "metadata": {},
   "source": [
    "Decision making is the most important aspect of almost all the progeramming languages.\n",
    "As the name impiles, decision makinkg allows us to to run a particular decision.\n",
    "Here, the decisions are made on the validity of the particilar conditions.\n",
    "Condition checking is the backbone of decision making.\n"
   ]
  },
  {
   "cell_type": "markdown",
   "metadata": {},
   "source": [
    "# The if statement"
   ]
  },
  {
   "cell_type": "markdown",
   "metadata": {},
   "source": [
    "The if statement is used to test a particular condition is true, it executes a block of code knownas if-block. The condition of if statement can be any valid expression which can be either evaluated to true or false. "
   ]
  },
  {
   "cell_type": "code",
   "execution_count": 2,
   "metadata": {},
   "outputs": [
    {
     "name": "stdout",
     "output_type": "stream",
     "text": [
      "enter the number?50\n",
      "Number is odd\n"
     ]
    }
   ],
   "source": [
    "num = int(input(\"enter the number?\"))\n",
    "if num%2 == 0:\n",
    "    print(\"Number is odd\")"
   ]
  },
  {
   "cell_type": "code",
   "execution_count": 3,
   "metadata": {},
   "outputs": [
    {
     "name": "stdout",
     "output_type": "stream",
     "text": [
      "Enter a?80\n",
      "Enter b?100\n",
      "Enter c?120\n",
      "c is largest\n"
     ]
    }
   ],
   "source": [
    "a = int(input(\"Enter a?\"));\n",
    "b = int(input(\"Enter b?\"));\n",
    "c = int(input(\"Enter c?\"));\n",
    "if a>b and a>c:\n",
    "    print(\"a is largest\");\n",
    "if b>a and a>c:\n",
    "    print(\"b is largest\");\n",
    "if c>a and c>b:\n",
    "    print(\"c is largest\");"
   ]
  },
  {
   "cell_type": "code",
   "execution_count": 4,
   "metadata": {},
   "outputs": [
    {
     "name": "stdout",
     "output_type": "stream",
     "text": [
      "Enter the number?85\n",
      "number is not equal to 10 or 50\n"
     ]
    }
   ],
   "source": [
    "number = int(input(\"Enter the number?\"))\n",
    "if number==10:\n",
    "    print(\"number is equal to 10\")\n",
    "elif number==50:\n",
    "    print(\"number is equal to 50\")\n",
    "else:\n",
    "    print(\"number is not equal to 10 or 50\")"
   ]
  },
  {
   "cell_type": "code",
   "execution_count": null,
   "metadata": {},
   "outputs": [],
   "source": [
    "marks = int(input(\"Enter the marks?\"))\n",
    "if marks > 85 and marks <=100:\n",
    "    print(\"Congrats ! you scored grade A...\")\n",
    "elif marks> 60 and marks <=85:\n",
    "    print(\"You scored grade B+...\")\n",
    "elif marks > 40 and marks <=60:\n",
    "    print(\"You scored grade B...\")\n",
    "elif (marks > 30 and marks <= 40):\n",
    "    print(\"You scored grade C\")\n",
    "else:\n",
    "    print(\" Sorry you are fail?\")"
   ]
  },
  {
   "cell_type": "markdown",
   "metadata": {},
   "source": [
    "# Python Nested If statement"
   ]
  },
  {
   "cell_type": "code",
   "execution_count": null,
   "metadata": {},
   "outputs": [],
   "source": [
    "can have a if...elif...else statement inside another if...elif...else statement. This is called nesting in computer programming.\n",
    "\n",
    "Any number of these statements can be nested inside one another. Identation is the only way to figure out the level of nesting. They can get confusing, so they must be avoided unless necessary."
   ]
  },
  {
   "cell_type": "code",
   "execution_count": 2,
   "metadata": {},
   "outputs": [
    {
     "name": "stdout",
     "output_type": "stream",
     "text": [
      "enter a number:52\n",
      "Positive number\n"
     ]
    }
   ],
   "source": [
    "'''In this program, we input a number \n",
    "check if the number is positive or negative \n",
    "or zero and display an appropriate message\n",
    "This time we use nested if statement'''\n",
    "\n",
    "num = float(input('enter a number:'))\n",
    "if num >= 0:\n",
    "    if num == 0:\n",
    "        print('Zero')\n",
    "    else:\n",
    "        print('Positive number')\n",
    "else:\n",
    "    print('negative number')\n",
    "    \n",
    "    \n",
    "    \n",
    "    \n",
    "\n"
   ]
  },
  {
   "cell_type": "code",
   "execution_count": null,
   "metadata": {},
   "outputs": [],
   "source": []
  },
  {
   "cell_type": "code",
   "execution_count": null,
   "metadata": {},
   "outputs": [],
   "source": []
  }
 ],
 "metadata": {
  "kernelspec": {
   "display_name": "Python 3",
   "language": "python",
   "name": "python3"
  },
  "language_info": {
   "codemirror_mode": {
    "name": "ipython",
    "version": 3
   },
   "file_extension": ".py",
   "mimetype": "text/x-python",
   "name": "python",
   "nbconvert_exporter": "python",
   "pygments_lexer": "ipython3",
   "version": "3.7.3"
  }
 },
 "nbformat": 4,
 "nbformat_minor": 2
}
