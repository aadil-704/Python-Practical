{
 "cells": [
  {
   "cell_type": "markdown",
   "metadata": {},
   "source": [
    "# Abstraction\n",
    "\n",
    "Hiding the implementation details from the user.\n",
    "Abstraction is a very powerful concept of oops for making complex task and codes simpler to use. It reduces the complexcity for user by making revelent part accessable and usable leaving the uneccessary code hidden. There are many times the programmer doesn't want to out sensitive of our code this is where data abstraction can be very abstractionl.\n",
    "Data abstraction in python can be achieve through by creating abstract classes and inheriting them later.\n",
    "Abstract classes can not be instantiated directly this means that we can not create abstract class .\n",
    "Abstract class in an interface :-\n",
    "Interface in oops enable a class to inherit data and function from a base class by extending it in python we use the not implimented error to restrict the instantiatation of a class.Any class having this error inside the method defination cannot be instanitable.\n"
   ]
  },
  {
   "cell_type": "code",
   "execution_count": 1,
   "metadata": {},
   "outputs": [],
   "source": [
    "from abc import ABC , abstractclassmethod\n"
   ]
  },
  {
   "cell_type": "code",
   "execution_count": 3,
   "metadata": {},
   "outputs": [
    {
     "name": "stdout",
     "output_type": "stream",
     "text": [
      "Joy is wonderful\n"
     ]
    }
   ],
   "source": [
    "class Joy():\n",
    "    def wonderful(self):\n",
    "        print(\"Joy is wonderful\")\n",
    "a=Joy()\n",
    "a.wonderful()\n",
    "\n"
   ]
  },
  {
   "cell_type": "code",
   "execution_count": 4,
   "metadata": {},
   "outputs": [
    {
     "ename": "TypeError",
     "evalue": "Can't instantiate abstract class Joy with abstract methods wonderful",
     "output_type": "error",
     "traceback": [
      "\u001b[1;31m---------------------------------------------------------------------------\u001b[0m",
      "\u001b[1;31mTypeError\u001b[0m                                 Traceback (most recent call last)",
      "\u001b[1;32m<ipython-input-4-6fb3514f4070>\u001b[0m in \u001b[0;36m<module>\u001b[1;34m\u001b[0m\n\u001b[0;32m      5\u001b[0m     \u001b[1;32mdef\u001b[0m \u001b[0mfun\u001b[0m\u001b[1;33m(\u001b[0m\u001b[0mself\u001b[0m\u001b[1;33m)\u001b[0m\u001b[1;33m:\u001b[0m\u001b[1;33m\u001b[0m\u001b[1;33m\u001b[0m\u001b[0m\n\u001b[0;32m      6\u001b[0m         \u001b[0mprint\u001b[0m\u001b[1;33m(\u001b[0m\u001b[1;34m\"Joy is funny\"\u001b[0m\u001b[1;33m)\u001b[0m\u001b[1;33m\u001b[0m\u001b[1;33m\u001b[0m\u001b[0m\n\u001b[1;32m----> 7\u001b[1;33m \u001b[0ma\u001b[0m\u001b[1;33m=\u001b[0m\u001b[0mJoy\u001b[0m\u001b[1;33m(\u001b[0m\u001b[1;33m)\u001b[0m\u001b[1;33m\u001b[0m\u001b[1;33m\u001b[0m\u001b[0m\n\u001b[0m\u001b[0;32m      8\u001b[0m \u001b[0ma\u001b[0m\u001b[1;33m.\u001b[0m\u001b[0mwonderful\u001b[0m\u001b[1;33m(\u001b[0m\u001b[1;33m)\u001b[0m\u001b[1;33m\u001b[0m\u001b[1;33m\u001b[0m\u001b[0m\n\u001b[0;32m      9\u001b[0m \u001b[0ma\u001b[0m\u001b[1;33m.\u001b[0m\u001b[0mfun\u001b[0m\u001b[1;33m(\u001b[0m\u001b[1;33m)\u001b[0m\u001b[1;33m\u001b[0m\u001b[1;33m\u001b[0m\u001b[0m\n",
      "\u001b[1;31mTypeError\u001b[0m: Can't instantiate abstract class Joy with abstract methods wonderful"
     ]
    }
   ],
   "source": [
    "class Joy(ABC):\n",
    "    @abstractclassmethod\n",
    "    def wonderful(self):\n",
    "        print(\"Joy is wonderful\")\n",
    "    def fun(self):\n",
    "        print(\"Joy is funny\")\n",
    "a=Joy()\n",
    "a.wonderful()\n",
    "a.fun()\n"
   ]
  },
  {
   "cell_type": "code",
   "execution_count": 5,
   "metadata": {},
   "outputs": [
    {
     "name": "stdout",
     "output_type": "stream",
     "text": [
      "I can walk and run\n",
      "I can crawl\n",
      "I can bark\n",
      "I can roar\n"
     ]
    }
   ],
   "source": [
    "from abc import ABC, abstractmethod\n",
    "\n",
    "class Animal(ABC):\n",
    " \n",
    "    def move(self):\n",
    "\n",
    "        pass\n",
    " \n",
    "class Human(Animal):\n",
    " \n",
    "    def move(self):\n",
    "\n",
    "        print(\"I can walk and run\")\n",
    " \n",
    "class Snake(Animal):\n",
    " \n",
    "    def move(self):\n",
    "\n",
    "        print(\"I can crawl\")\n",
    " \n",
    "class Dog(Animal):\n",
    " \n",
    "    def move(self):\n",
    "\n",
    "        print(\"I can bark\")\n",
    " \n",
    "class Lion(Animal):\n",
    " \n",
    "    def move(self):\n",
    "\n",
    "        print(\"I can roar\")\n",
    "\n",
    "         \n",
    "# Driver code\n",
    "R = Human()\n",
    "R.move()\n",
    " \n",
    "K = Snake()\n",
    "K.move()\n",
    " \n",
    "R = Dog()\n",
    "R.move()\n",
    " \n",
    "K = Lion()\n",
    "K.move()\n"
   ]
  },
  {
   "cell_type": "code",
   "execution_count": null,
   "metadata": {},
   "outputs": [],
   "source": []
  }
 ],
 "metadata": {
  "kernelspec": {
   "display_name": "Python 3",
   "language": "python",
   "name": "python3"
  },
  "language_info": {
   "codemirror_mode": {
    "name": "ipython",
    "version": 3
   },
   "file_extension": ".py",
   "mimetype": "text/x-python",
   "name": "python",
   "nbconvert_exporter": "python",
   "pygments_lexer": "ipython3",
   "version": "3.7.3"
  }
 },
 "nbformat": 4,
 "nbformat_minor": 2
}
