{
 "cells": [
  {
   "cell_type": "markdown",
   "metadata": {},
   "source": [
    "# keywords \n",
    "1.keywords are some predefined. In puython that have special meaning\n",
    "2.keywords are used to define the syntax of coding programe\n",
    "3.the keywords are can not be used as identifier , functions , variable name \n",
    "4.all the keywords are in python are writen in lower case except T and f\n",
    "5.there are 33 keywords in python 3.7"
   ]
  },
  {
   "cell_type": "markdown",
   "metadata": {},
   "source": []
  },
  {
   "cell_type": "markdown",
   "metadata": {},
   "source": [
    "# Idntifiers\n",
    "<ol>\n",
    "    <li> the identifier is a nameuse to identify a varible , function , module etc.</li>\n",
    "    <li> the identifier is a combination of character digits and underscore. the identifier should start with a character or            underscore then use a digit.</li>\n",
    "    <li> the identifier should start with a character . </li>\n",
    "         the character are A-Z or  a-z , an Underscore (_), and digit (0-9). we should not use special characters (#,@,$,&,*)</li>\n",
    "         "
   ]
  },
  {
   "cell_type": "markdown",
   "metadata": {},
   "source": [
    "<h1 style=\"color:green\">examples of valid identifiers:</h1>\n",
    "<ul>\n",
    "<li>var1</li>\n",
    "<li> _var <li>\n",
    "<li> _ 1_var</li>\n",
    "<li>var_1</li>\n",
    "</ul>\n",
    "\n"
   ]
  },
  {
   "cell_type": "code",
   "execution_count": 6,
   "metadata": {},
   "outputs": [
    {
     "ename": "SyntaxError",
     "evalue": "invalid syntax (<ipython-input-6-c104295badb7>, line 1)",
     "output_type": "error",
     "traceback": [
      "\u001b[1;36m  File \u001b[1;32m\"<ipython-input-6-c104295badb7>\"\u001b[1;36m, line \u001b[1;32m1\u001b[0m\n\u001b[1;33m    <h2 style=\"color:red\">examples of invalid identifiers:</h2>\u001b[0m\n\u001b[1;37m    ^\u001b[0m\n\u001b[1;31mSyntaxError\u001b[0m\u001b[1;31m:\u001b[0m invalid syntax\n"
     ]
    }
   ],
   "source": [
    "<h2 style=\"color:red\">examples of invalid identifiers:</h2>\n",
    "<ul>\n",
    "<li>!var1</li>\n",
    "<li>var_@</li>\n",
    "<li>var_%</li>\n",
    "</ul>"
   ]
  },
  {
   "cell_type": "code",
   "execution_count": 17,
   "metadata": {},
   "outputs": [],
   "source": [
    "PascalCase=5"
   ]
  },
  {
   "cell_type": "code",
   "execution_count": 14,
   "metadata": {},
   "outputs": [
    {
     "name": "stdout",
     "output_type": "stream",
     "text": [
      "5\n"
     ]
    }
   ],
   "source": [
    "print(PascalCase)"
   ]
  },
  {
   "cell_type": "code",
   "execution_count": 9,
   "metadata": {},
   "outputs": [],
   "source": [
    "camelCase=90"
   ]
  },
  {
   "cell_type": "code",
   "execution_count": 10,
   "metadata": {},
   "outputs": [
    {
     "name": "stdout",
     "output_type": "stream",
     "text": [
      "90\n"
     ]
    }
   ],
   "source": [
    "print(camelCase)"
   ]
  },
  {
   "cell_type": "code",
   "execution_count": 11,
   "metadata": {},
   "outputs": [],
   "source": [
    "snake_case=56"
   ]
  },
  {
   "cell_type": "code",
   "execution_count": 12,
   "metadata": {},
   "outputs": [
    {
     "name": "stdout",
     "output_type": "stream",
     "text": [
      "56\n"
     ]
    }
   ],
   "source": [
    "print(snake_case)"
   ]
  },
  {
   "cell_type": "code",
   "execution_count": 20,
   "metadata": {},
   "outputs": [
    {
     "name": "stdout",
     "output_type": "stream",
     "text": [
      "Example No 1\n",
      "True\n",
      "True\n",
      "False\n",
      "True\n"
     ]
    }
   ],
   "source": [
    "print(\"Example No 1\")\n",
    "\n",
    "print(True or False)\n",
    "print(True or True)\n",
    "print(False or False)\n",
    "print(not False)"
   ]
  },
  {
   "cell_type": "code",
   "execution_count": 24,
   "metadata": {},
   "outputs": [
    {
     "name": "stdout",
     "output_type": "stream",
     "text": [
      "example no;02\n",
      "DSAI\n",
      "DSAI\n",
      "DSAI\n",
      "DSAI\n",
      "DSAI\n",
      "DSAI\n",
      "DSAI\n",
      "DSAI\n",
      "DSAI\n",
      "DSAI\n"
     ]
    }
   ],
   "source": [
    "print(\"example no;02\")\n",
    "for i in range (10):\n",
    "    print(\"DSAI\")"
   ]
  },
  {
   "cell_type": "code",
   "execution_count": 28,
   "metadata": {},
   "outputs": [
    {
     "name": "stdout",
     "output_type": "stream",
     "text": [
      "You are not eligible for vote\n"
     ]
    }
   ],
   "source": [
    "a = 15\n",
    "b = 22\n",
    "\n",
    "if a>18:\n",
    "    print(\"You are eligible fo vote\")\n",
    "else:\n",
    "    print(\"You are not eligible for vote\")\n"
   ]
  },
  {
   "cell_type": "code",
   "execution_count": 1,
   "metadata": {},
   "outputs": [
    {
     "name": "stdout",
     "output_type": "stream",
     "text": [
      "You are eligible for Mla candidate\n"
     ]
    }
   ],
   "source": [
    "a = 40\n",
    "b = 21\n",
    "if a>25:\n",
    "    print(\"You are eligible for Mla candidate\")\n",
    "else:\n",
    "    print(\"You are not eligible for Mla candidate\")"
   ]
  },
  {
   "cell_type": "code",
   "execution_count": 10,
   "metadata": {},
   "outputs": [
    {
     "name": "stdout",
     "output_type": "stream",
     "text": [
      "Adult\n"
     ]
    }
   ],
   "source": [
    "a = 29\n",
    "b = 50\n",
    "if a>50:\n",
    "    print(\"senior\")\n",
    "elif a>25:\n",
    "    print(\"Adult\")\n",
    "else:\n",
    "    print(\"not a senior \")"
   ]
  },
  {
   "cell_type": "code",
   "execution_count": 11,
   "metadata": {},
   "outputs": [
    {
     "ename": "SyntaxError",
     "evalue": "invalid syntax (<ipython-input-11-de51581bf173>, line 1)",
     "output_type": "error",
     "traceback": [
      "\u001b[1;36m  File \u001b[1;32m\"<ipython-input-11-de51581bf173>\"\u001b[1;36m, line \u001b[1;32m1\u001b[0m\n\u001b[1;33m    a@ = 5\u001b[0m\n\u001b[1;37m       ^\u001b[0m\n\u001b[1;31mSyntaxError\u001b[0m\u001b[1;31m:\u001b[0m invalid syntax\n"
     ]
    }
   ],
   "source": [
    "a@ = 5"
   ]
  },
  {
   "cell_type": "code",
   "execution_count": null,
   "metadata": {},
   "outputs": [],
   "source": []
  }
 ],
 "metadata": {
  "kernelspec": {
   "display_name": "Python 3",
   "language": "python",
   "name": "python3"
  },
  "language_info": {
   "codemirror_mode": {
    "name": "ipython",
    "version": 3
   },
   "file_extension": ".py",
   "mimetype": "text/x-python",
   "name": "python",
   "nbconvert_exporter": "python",
   "pygments_lexer": "ipython3",
   "version": "3.7.3"
  }
 },
 "nbformat": 4,
 "nbformat_minor": 2
}
