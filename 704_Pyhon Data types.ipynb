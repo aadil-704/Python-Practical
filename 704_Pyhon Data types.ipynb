{
 "cells": [
  {
   "cell_type": "code",
   "execution_count": 3,
   "metadata": {},
   "outputs": [
    {
     "name": "stdout",
     "output_type": "stream",
     "text": [
      "5j\n"
     ]
    }
   ],
   "source": [
    "a=str(\"Hello Aadil\")\n",
    "b=int(85)#int\n",
    "c=float(7.96)#float\n",
    "d=complex(5j)#complex\n",
    "print(d)"
   ]
  },
  {
   "cell_type": "code",
   "execution_count": 12,
   "metadata": {},
   "outputs": [
    {
     "name": "stdout",
     "output_type": "stream",
     "text": [
      "b'\\x00\\x00\\x00\\x00\\x00\\x00'\n",
      "True\n",
      "{'name': 'Aadil', 'age': 20}\n"
     ]
    }
   ],
   "source": [
    "e=list((\"Msc Stat\",\"Msc Zoology\",\"Msc Botony\"))\n",
    "f=tuple((\"Msc Stat\",\"Msc Zoology\",\"Msc Botony\"))\n",
    "g=range(6)\n",
    "h=dict(name=\"Aadil\",age=20)\n",
    "i=set((\"apple\",\"banana\",\"cherry\"))#set\n",
    "j=frozenset((\"apple\",\"banana\",\"cherry\"))\n",
    "#frozenset[Frozen set is just an immutable]\n",
    "k=bool(6)#bool\n",
    "l=bytes(6)#bytes\n",
    "print(l)\n",
    "print(k)\n",
    "print(h)"
   ]
  },
  {
   "cell_type": "code",
   "execution_count": 10,
   "metadata": {},
   "outputs": [],
   "source": [
    "m=bytearray(5)\n",
    "n=memoryview(m)"
   ]
  },
  {
   "cell_type": "code",
   "execution_count": 11,
   "metadata": {},
   "outputs": [
    {
     "name": "stdout",
     "output_type": "stream",
     "text": [
      "bytearray(b'\\x00\\x00\\x00\\x00\\x00')\n"
     ]
    }
   ],
   "source": [
    "print(m)"
   ]
  },
  {
   "cell_type": "code",
   "execution_count": 13,
   "metadata": {},
   "outputs": [
    {
     "name": "stdout",
     "output_type": "stream",
     "text": [
      "happy birthday jayesh\n"
     ]
    }
   ],
   "source": [
    "jayesh=str(\"happy birthday jayesh\")\n",
    "print(jayesh)"
   ]
  },
  {
   "cell_type": "code",
   "execution_count": null,
   "metadata": {},
   "outputs": [],
   "source": []
  }
 ],
 "metadata": {
  "kernelspec": {
   "display_name": "Python 3",
   "language": "python",
   "name": "python3"
  },
  "language_info": {
   "codemirror_mode": {
    "name": "ipython",
    "version": 3
   },
   "file_extension": ".py",
   "mimetype": "text/x-python",
   "name": "python",
   "nbconvert_exporter": "python",
   "pygments_lexer": "ipython3",
   "version": "3.7.3"
  }
 },
 "nbformat": 4,
 "nbformat_minor": 2
}
