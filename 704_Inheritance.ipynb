{
 "cells": [
  {
   "cell_type": "markdown",
   "metadata": {},
   "source": [
    "# Inheritance:-\n",
    "Inheritance is a capability of a class to derive or inherit the properties of class.\n",
    "The class that have dertive properties its called as derive class or child class and the class from which the properties are being derive base class or parent class.\n",
    "\n",
    "## Advantages:-\n",
    "Inheritance provide reusabvility of class\n",
    "Reusability of code\n",
    "It is transistrive in nature\n",
    "Which means that if class B inherit frpom another class A, then all the subclasess of B would automatically inherit from class A."
   ]
  },
  {
   "cell_type": "markdown",
   "metadata": {},
   "source": [
    "# Types of Inheritance\n",
    "\n",
    "Single-level inheritance enablews a derived class to inherit characteristics from a single parent class:"
   ]
  },
  {
   "cell_type": "code",
   "execution_count": 11,
   "metadata": {},
   "outputs": [],
   "source": [
    "class parent:\n",
    "    def __init__(self,name,age,salary):\n",
    "        self.name=name\n",
    "        self.age=age\n",
    "        self.salary=salary\n",
    "    def details(self):\n",
    "        print(\"Name of the parent is\", self.name)\n",
    "        print(\"Age of the parent is\", self.age)\n",
    "        print(\"Salary of the parent is \", self.salary)\n",
    "        "
   ]
  },
  {
   "cell_type": "code",
   "execution_count": 12,
   "metadata": {},
   "outputs": [],
   "source": [
    "e=parent(\"Abhinav\",22,10000)"
   ]
  },
  {
   "cell_type": "code",
   "execution_count": 13,
   "metadata": {},
   "outputs": [
    {
     "name": "stdout",
     "output_type": "stream",
     "text": [
      "Name of the parent is Abhinav\n",
      "Age of the parent is 22\n",
      "Salary of the parent is  10000\n"
     ]
    }
   ],
   "source": [
    "e.details()"
   ]
  },
  {
   "cell_type": "code",
   "execution_count": 14,
   "metadata": {},
   "outputs": [],
   "source": [
    "class child(parent):\n",
    "    def department(self):\n",
    "        print(\"department is DSAI\", self.name)"
   ]
  },
  {
   "cell_type": "code",
   "execution_count": 15,
   "metadata": {},
   "outputs": [
    {
     "name": "stdout",
     "output_type": "stream",
     "text": [
      "department is DSAI Raja\n"
     ]
    }
   ],
   "source": [
    "d=child('Raja',20,25000)\n",
    "d.department()"
   ]
  },
  {
   "cell_type": "code",
   "execution_count": 16,
   "metadata": {},
   "outputs": [
    {
     "name": "stdout",
     "output_type": "stream",
     "text": [
      "Name of the parent is Raja\n",
      "Age of the parent is 20\n",
      "Salary of the parent is  25000\n"
     ]
    }
   ],
   "source": [
    "d.details()\n"
   ]
  },
  {
   "cell_type": "code",
   "execution_count": 17,
   "metadata": {},
   "outputs": [],
   "source": [
    "class grandchild(child):\n",
    "    def college(self):\n",
    "        print('The name of the college is RJ',self.name)"
   ]
  },
  {
   "cell_type": "code",
   "execution_count": 20,
   "metadata": {},
   "outputs": [
    {
     "name": "stdout",
     "output_type": "stream",
     "text": [
      "Name of the parent is Munna\n",
      "Age of the parent is 2\n",
      "Salary of the parent is  0\n",
      "The name of the colloge is RJ Munna\n"
     ]
    }
   ],
   "source": [
    "e=grandchild('Munna',2,0)\n",
    "e.details()\n",
    "e.college()\n"
   ]
  },
  {
   "cell_type": "markdown",
   "metadata": {},
   "source": [
    "# Multiple Inheritance\n",
    "\n",
    "A single child class is inherited from to or more parent class. This means the child class has access to all the method or attribute of the parent class "
   ]
  },
  {
   "cell_type": "code",
   "execution_count": 26,
   "metadata": {},
   "outputs": [
    {
     "name": "stdout",
     "output_type": "stream",
     "text": [
      "Hello Dad\n",
      "Hello Mom\n",
      "Hello Child\n"
     ]
    }
   ],
   "source": [
    "class Dad():\n",
    "    def func1(self):\n",
    "        print(\"Hello Dad\")\n",
    "        \n",
    "class Mom():\n",
    "    def func2(self):\n",
    "        print(\"Hello Mom\")\n",
    "    \n",
    "class Child(Dad, Mom):\n",
    "    def func3(self):\n",
    "        print(\"Hello Child\")\n",
    "\n",
    "        \n",
    "a= Child()\n",
    "a.func1()\n",
    "a.func2()\n",
    "a.func3()"
   ]
  },
  {
   "cell_type": "markdown",
   "metadata": {},
   "source": [
    "# Multi-Level Inheritance in Python\n",
    "\n",
    "In multilevel inheritance we go beyond just a parent child relation. We introduce grandparent, parent and child etc.\n",
    "In multiple inheritance we saw only two level of inheritance in which superior parent classes and derived classes but here we can have multiple levels where the parent classe itself drive from another clasess.\n"
   ]
  },
  {
   "cell_type": "code",
   "execution_count": 31,
   "metadata": {},
   "outputs": [],
   "source": [
    "class Grandparent:\n",
    "    def func1(self):\n",
    "        print(\"Hello Champaklal\")\n",
    "    \n",
    "    \n",
    "class Parent(Grandparent):\n",
    "    def func2(self):\n",
    "        print(\"Hello Jethalal\")\n",
    "        \n",
    "class Child(Parent):\n",
    "    def func3(self):\n",
    "        print(\"Hello Tappu\")\n",
    "        \n",
    "              \n",
    "            "
   ]
  },
  {
   "cell_type": "code",
   "execution_count": 32,
   "metadata": {},
   "outputs": [
    {
     "name": "stdout",
     "output_type": "stream",
     "text": [
      "Hello Champaklal\n",
      "Hello Jethalal\n",
      "Hello Tappu\n"
     ]
    }
   ],
   "source": [
    "Rajkumar=Child()\n",
    "Rajkumar.func1()\n",
    "Rajkumar.func2()\n",
    "Rajkumar.func3()\n",
    "\n"
   ]
  },
  {
   "cell_type": "markdown",
   "metadata": {},
   "source": [
    "# Hierachial\n",
    "It is right opposite to a multiple inheritance which means that there are multiple child class from a sing parent"
   ]
  },
  {
   "cell_type": "code",
   "execution_count": 36,
   "metadata": {},
   "outputs": [],
   "source": [
    "class parent:\n",
    "    def eyes(self):\n",
    "        print(\"blue\")\n",
    "        \n",
    "class child1(parent):\n",
    "    def hair(self):\n",
    "        print(\"curly\")\n",
    "    def dimple(self):\n",
    "        print(\"dimple\")\n",
    "        \n",
    "class child2(parent):\n",
    "    def skin(self):\n",
    "        print(\"dusky\")\n",
    "        "
   ]
  },
  {
   "cell_type": "code",
   "execution_count": 37,
   "metadata": {},
   "outputs": [
    {
     "name": "stdout",
     "output_type": "stream",
     "text": [
      "dimple\n",
      "blue\n",
      "curly\n",
      "dusky\n",
      "blue\n"
     ]
    }
   ],
   "source": [
    "c1=child1()\n",
    "c2=child2()\n",
    "c1.dimple()\n",
    "c1.eyes()\n",
    "c1.hair()\n",
    "c2.skin()\n",
    "c2.eyes()\n",
    "\n"
   ]
  },
  {
   "cell_type": "code",
   "execution_count": null,
   "metadata": {},
   "outputs": [],
   "source": []
  }
 ],
 "metadata": {
  "kernelspec": {
   "display_name": "Python 3",
   "language": "python",
   "name": "python3"
  },
  "language_info": {
   "codemirror_mode": {
    "name": "ipython",
    "version": 3
   },
   "file_extension": ".py",
   "mimetype": "text/x-python",
   "name": "python",
   "nbconvert_exporter": "python",
   "pygments_lexer": "ipython3",
   "version": "3.7.3"
  }
 },
 "nbformat": 4,
 "nbformat_minor": 2
}
