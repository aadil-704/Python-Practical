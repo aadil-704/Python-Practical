{
 "cells": [
  {
   "cell_type": "markdown",
   "metadata": {},
   "source": [
    "# What is encapulation in python ?\n",
    "\n",
    "Encapulation in python describes the concept bundling data and method within a single unit eg: when you create a class it means that you are impleminting encapulatiuon. A class of example of encapulatiuon that binds all that data member and method into a single unit.\n",
    "\n",
    "\n",
    "\n",
    "\n",
    "\n"
   ]
  },
  {
   "cell_type": "markdown",
   "metadata": {},
   "source": [
    "We can hide an objects internal reoresentation from outside the function this is called information hiding also encapulation allow us to restrict accesing variables and method directly and prevent accidential data modification by creating private data member and method within a class.\n"
   ]
  },
  {
   "cell_type": "markdown",
   "metadata": {},
   "source": [
    "# Access modifiers\n",
    "\n",
    "Encapulation can be acheve by declaring the data members and method of class either private or protectd but in python we dont have directly access modifiers life public private and protected we can achieve this by using a single underscore and double underscore.\n",
    "Accessing modifiers limit the access to the variables and methods of the class \n",
    "**Public member**:- accesseble anywhere from a within a class or outside the class\n",
    "**Private member**:- Accessable within the class.\n",
    "**Protected memeber**:-Accesseble within the class and its sub-class"
   ]
  },
  {
   "cell_type": "markdown",
   "metadata": {},
   "source": [
    "# Private member\n",
    "\n",
    "We can protect the variables in the class by making the private to define the private variables and two underscore before variable name.\n",
    "Private memeber are accessible only within the classs, and can't access them directly from class objects"
   ]
  },
  {
   "cell_type": "code",
   "execution_count": 5,
   "metadata": {},
   "outputs": [
    {
     "name": "stdout",
     "output_type": "stream",
     "text": [
      "salary: 10000\n"
     ]
    }
   ],
   "source": [
    "class Employee:\n",
    "    # constructor\n",
    "    def __init__(self,name,salary):\n",
    "        # public data member\n",
    "        self.name=name\n",
    "        #private member\n",
    "        self.salary = salary\n",
    "emp = Employee('Jessa',10000)\n",
    "print('salary:',emp.salary)"
   ]
  },
  {
   "cell_type": "markdown",
   "metadata": {},
   "source": [
    "We can access private member outside the class using two approaches\n",
    "1) create a public method to access private member\n"
   ]
  },
  {
   "cell_type": "code",
   "execution_count": 16,
   "metadata": {},
   "outputs": [
    {
     "name": "stdout",
     "output_type": "stream",
     "text": [
      "Name : Jessa Salary: 10000\n"
     ]
    }
   ],
   "source": [
    "class Employee:\n",
    "    # constructor\n",
    "    def __init__(self,name,salary):\n",
    "        # public data member\n",
    "        self.name=name\n",
    "        #private member\n",
    "        self.__salary = salary\n",
    "        # public instance methods\n",
    "    def show(self):\n",
    "        print(\"Name :\", self.name,\"Salary:\",self.__salary)\n",
    "            \n",
    "emp = Employee('Jessa',10000)\n",
    "emp.show()\n"
   ]
  },
  {
   "cell_type": "markdown",
   "metadata": {},
   "source": [
    "# Name Mangling\n",
    "\n",
    "The name mangling is created on an identifier by adding two leading underscore and trading underscore"
   ]
  },
  {
   "cell_type": "code",
   "execution_count": 15,
   "metadata": {},
   "outputs": [
    {
     "name": "stdout",
     "output_type": "stream",
     "text": [
      "Name: Jessa\n",
      "Salary: 20000\n"
     ]
    }
   ],
   "source": [
    "class Employee:\n",
    "    # constructor\n",
    "    def __init__(self,name,salary):\n",
    "        # public data member\n",
    "        self.name=name\n",
    "        #private member\n",
    "        self.__salary = salary\n",
    "emp = Employee('Jessa',20000)\n",
    "print('Name:',emp.name)\n",
    "print('Salary:', emp._Employee__salary)\n",
    "\n"
   ]
  },
  {
   "cell_type": "markdown",
   "metadata": {},
   "source": [
    "# Protected member\n",
    "Protected member are accessble within the class and also available to its sub-class(Child-class) to define a protected memeber we can use single underscore before variable name \n",
    "\n",
    "Protected data member are used when you implementing inheritance and wanted to allow data member access to only child class."
   ]
  },
  {
   "cell_type": "code",
   "execution_count": 21,
   "metadata": {},
   "outputs": [
    {
     "name": "stdout",
     "output_type": "stream",
     "text": [
      "Employee name: Jessa\n",
      "Working on project: NLP\n"
     ]
    }
   ],
   "source": [
    "class Company:\n",
    "    def __init__(self):\n",
    "        self._project=\"NLP\"\n",
    "        \n",
    "class Employee(Company):\n",
    "    def __init__(self,name):\n",
    "        self.name=name\n",
    "        Company.__init__(self)\n",
    "        \n",
    "    def show(self):\n",
    "        print(\"Employee name:\", self.name)\n",
    "        print(\"Working on project:\",self._project)\n",
    "c=Employee(\"Jessa\")\n",
    "c.show()"
   ]
  },
  {
   "cell_type": "code",
   "execution_count": 20,
   "metadata": {},
   "outputs": [
    {
     "name": "stdout",
     "output_type": "stream",
     "text": [
      "Employee name: Jessa\n",
      "Working on project: NLP\n",
      "Project: NLP\n"
     ]
    }
   ],
   "source": [
    "class Company:\n",
    "    def __init__(self):\n",
    "        self._project=\"NLP\"\n",
    "        \n",
    "class Employee(Company):\n",
    "    def __init__(self,name):\n",
    "        self.name=name\n",
    "        Company.__init__(self)\n",
    "        \n",
    "    def show(self):\n",
    "        print(\"Employee name:\", self.name)\n",
    "        print(\"Working on project:\",self._project)\n",
    "c=Employee(\"Jessa\")\n",
    "c.show()\n",
    "print('Project:', c._project)"
   ]
  },
  {
   "cell_type": "markdown",
   "metadata": {},
   "source": [
    "# Getters and Setters in python\n",
    "\n"
   ]
  },
  {
   "cell_type": "markdown",
   "metadata": {},
   "source": [
    "# Advantageds of Encapulation\n",
    "\n",
    "**Security**:- Encapulation protects an object from unauthorised access it allows private and protect access level to prevent accidential data modification\n",
    "**Data Hid9ing**:- The user doesnot know behind the scene of the class they would only be knowing that to modify a data member call the setter method to read the data member call the getter method these getters and stters method are used in data hiding\n",
    "**Simplicity**:- It simplifices the maintainance of the application by keeping classes separeted and preventing them from tightly coupling with each other\n",
    "**Aesthetics**:- Bundling the data and methods within the class makes more readable and maintenable."
   ]
  }
 ],
 "metadata": {
  "kernelspec": {
   "display_name": "Python 3",
   "language": "python",
   "name": "python3"
  },
  "language_info": {
   "codemirror_mode": {
    "name": "ipython",
    "version": 3
   },
   "file_extension": ".py",
   "mimetype": "text/x-python",
   "name": "python",
   "nbconvert_exporter": "python",
   "pygments_lexer": "ipython3",
   "version": "3.7.3"
  }
 },
 "nbformat": 4,
 "nbformat_minor": 2
}
