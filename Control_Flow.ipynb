{
 "cells": [
  {
   "cell_type": "markdown",
   "metadata": {},
   "source": [
    "# Python If-else Stetement"
   ]
  },
  {
   "cell_type": "markdown",
   "metadata": {},
   "source": [
    "Decision making is the most important aspect of almost all the programming languages. As the name implies, decision making allows us to run a particular block of code for a particular decision. Here, the decision are made on the validity of the particular conditions. Conditions checking is the backbone of decision making."
   ]
  },
  {
   "cell_type": "markdown",
   "metadata": {},
   "source": [
    "# The if statement"
   ]
  },
  {
   "cell_type": "code",
   "execution_count": 1,
   "metadata": {},
   "outputs": [
    {
     "name": "stdout",
     "output_type": "stream",
     "text": [
      "enter a number80\n",
      "Number is even\n"
     ]
    }
   ],
   "source": [
    "num=int(input(\"enter a number\"))\n",
    "if num%2==0:\n",
    "    print(\"Number is even\")"
   ]
  },
  {
   "cell_type": "code",
   "execution_count": 2,
   "metadata": {},
   "outputs": [
    {
     "name": "stdout",
     "output_type": "stream",
     "text": [
      "Enter a?60\n",
      "Enter b?50\n",
      "Enter c?80\n"
     ]
    }
   ],
   "source": [
    "a=int(input(\"Enter a?\"));\n",
    "b=int(input(\"Enter b?\"));\n",
    "c=int(input(\"Enter c?\"));\n",
    "if a>b & a>c:\n",
    "    print(\"a is largest\");\n",
    "if b>a & b>c:\n",
    "    print(\"b is largest\");\n",
    "if c>a & c>b:\n",
    "    print(\"c is largest\");\n",
    "\n"
   ]
  },
  {
   "cell_type": "code",
   "execution_count": 3,
   "metadata": {},
   "outputs": [
    {
     "name": "stdout",
     "output_type": "stream",
     "text": [
      "Enter a number80\n",
      "number is not equal to 10 or 50\n"
     ]
    }
   ],
   "source": [
    "number = int(input(\"Enter a number\"))\n",
    "if number==10:\n",
    "    print(\"number is equal to 10\")\n",
    "elif number==50:\n",
    "    print(\"number is equal to 50\")\n",
    "else:\n",
    "    print(\"number is not equal to 10 or 50\")"
   ]
  },
  {
   "cell_type": "markdown",
   "metadata": {},
   "source": [
    "# Python Nested if Statement"
   ]
  },
  {
   "cell_type": "markdown",
   "metadata": {},
   "source": [
    "We can have a if...elif...else statement inside another if...elif...else statement. This is called nesting in computer programming.\n",
    "\n",
    "Any number of these statements can be nested inside one another. Identation is the only way to figure out the level of nesting. They can get confusing, so they must be avoided unless necessary."
   ]
  },
  {
   "cell_type": "code",
   "execution_count": 4,
   "metadata": {},
   "outputs": [
    {
     "name": "stdout",
     "output_type": "stream",
     "text": [
      "enter a nuber80\n",
      "Negative number\n"
     ]
    }
   ],
   "source": [
    "'''In this program, we input a number check if the number is positive or negative or zero and display an appropriate message This time we use nested if statement '''\n",
    "num=float(input(\"enter a nuber\"))\n",
    "if num>=0:\n",
    "    if num==0:\n",
    "          print(\"Zero\")\n",
    "    else:\n",
    "        print(\"Negative number\")"
   ]
  },
  {
   "cell_type": "markdown",
   "metadata": {},
   "source": [
    "# Loops in Python"
   ]
  },
  {
   "cell_type": "markdown",
   "metadata": {},
   "source": [
    "In general, statement are executed sequentinally: The first satement in a function in a function is executed first, followed by the second, and so on. There may be a situation when you need to execute a block of code several number of times. Programming languages provide various control structure that allow for more complicated execution paths a loop statement allow us to execute a statement or group of statements multiple times. The following diagram illustrate a loop statements."
   ]
  },
  {
   "cell_type": "markdown",
   "metadata": {},
   "source": [
    "# Type of loops"
   ]
  },
  {
   "cell_type": "code",
   "execution_count": 5,
   "metadata": {},
   "outputs": [
    {
     "name": "stdout",
     "output_type": "stream",
     "text": [
      "80\n",
      "No entry with that name found\n"
     ]
    }
   ],
   "source": [
    "student_name=str(input())\n",
    "\n",
    "marks = {'Savri':701,'Jayesh':705,'Manish':709}\n",
    "    \n",
    "for student in marks:\n",
    "    if student == student_name:\n",
    "        print(marks[student])\n",
    "        break\n",
    "else:\n",
    "    print('No entry with that name found')\n",
    "     "
   ]
  },
  {
   "cell_type": "code",
   "execution_count": null,
   "metadata": {},
   "outputs": [],
   "source": []
  }
 ],
 "metadata": {
  "kernelspec": {
   "display_name": "Python 3",
   "language": "python",
   "name": "python3"
  },
  "language_info": {
   "codemirror_mode": {
    "name": "ipython",
    "version": 3
   },
   "file_extension": ".py",
   "mimetype": "text/x-python",
   "name": "python",
   "nbconvert_exporter": "python",
   "pygments_lexer": "ipython3",
   "version": "3.7.3"
  }
 },
 "nbformat": 4,
 "nbformat_minor": 2
}
