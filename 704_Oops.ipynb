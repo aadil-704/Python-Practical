{
 "cells": [
  {
   "cell_type": "code",
   "execution_count": 3,
   "metadata": {},
   "outputs": [
    {
     "data": {
      "text/plain": [
       "'kurla west'"
      ]
     },
     "execution_count": 3,
     "metadata": {},
     "output_type": "execute_result"
    }
   ],
   "source": [
    "L2=\"Kurla West\"\n",
    "L2.upper()\n",
    "L2.lower()\n"
   ]
  },
  {
   "cell_type": "code",
   "execution_count": 1,
   "metadata": {},
   "outputs": [
    {
     "name": "stdout",
     "output_type": "stream",
     "text": [
      "this is the employee of DSAI\n",
      "Name of the employee is Aadil\n",
      "Name of the employee is 20\n"
     ]
    }
   ],
   "source": [
    "class employee: # Class is a blue print of object\n",
    "    def __init__(self,name,age):\n",
    "        self.name=name\n",
    "        self.age=age\n",
    "        \n",
    "    def DSAI(self):\n",
    "        print(\"this is the employee of DSAI\")\n",
    "        print(\"Name of the employee is\", self.name)\n",
    "        print(\"Name of the employee is\", self.age)\n",
    "emp=employee('Aadil',20)\n",
    "emp.DSAI() # object is any real world entity \n"
   ]
  },
  {
   "cell_type": "markdown",
   "metadata": {},
   "source": [
    "# Oops "
   ]
  },
  {
   "cell_type": "markdown",
   "metadata": {},
   "source": [
    "The purpose of object oriented programming is to develop application using class and object.\n",
    "A object oriented programming  is a paradigm is to design a program using classes and object. The object is related to real world entites such as monitor mouse ac windows etc.\n",
    "The oops concept is focusses on writting the reusable code. An object has true characteristics\n",
    "1) Attributes 2) Behaviour eg: A paarat is an object.\n",
    "Attributes: Color,Name,Species,Age\n",
    "Behaviour: Flying,Eating,Talking"
   ]
  },
  {
   "cell_type": "code",
   "execution_count": 13,
   "metadata": {},
   "outputs": [],
   "source": [
    "class Elephant():\n",
    "    def __init__(self,Name,Age):\n",
    "        self.Name=Name\n",
    "        self.Age=Age\n",
    "    def eating(self,song):\n",
    "            return \"{} eating {}\".format(self.Name,song)\n",
    "    def talking(self):\n",
    "            return \"{}is now talking\".format(self.Name)\n",
    "        "
   ]
  },
  {
   "cell_type": "code",
   "execution_count": 14,
   "metadata": {},
   "outputs": [
    {
     "name": "stdout",
     "output_type": "stream",
     "text": [
      "Jumbo eating Banana\n",
      "Jumbois now talking\n"
     ]
    }
   ],
   "source": [
    "Babulal = Elephant(\"Jumbo\", 10)\n",
    "print(Babulal.eating(\"Banana\"))\n",
    "print(Babulal.talking())\n"
   ]
  },
  {
   "cell_type": "code",
   "execution_count": null,
   "metadata": {},
   "outputs": [],
   "source": []
  }
 ],
 "metadata": {
  "kernelspec": {
   "display_name": "Python 3",
   "language": "python",
   "name": "python3"
  },
  "language_info": {
   "codemirror_mode": {
    "name": "ipython",
    "version": 3
   },
   "file_extension": ".py",
   "mimetype": "text/x-python",
   "name": "python",
   "nbconvert_exporter": "python",
   "pygments_lexer": "ipython3",
   "version": "3.7.3"
  }
 },
 "nbformat": 4,
 "nbformat_minor": 2
}
