{
 "cells": [
  {
   "cell_type": "markdown",
   "metadata": {},
   "source": [
    "# Polymorphism\n",
    "\n",
    "It refers to use of a single type of intity ( methods , operator or object ) to represent differenr type in different scenario."
   ]
  },
  {
   "cell_type": "code",
   "execution_count": 1,
   "metadata": {},
   "outputs": [],
   "source": [
    "class Bird:\n",
    "    def intro(self):\n",
    "        print(\"There are many types of birds.\")\n",
    "    def fly(self):\n",
    "        print(\"Most of the birds can fly but some cannot.\")\n",
    "        \n",
    "class sparrow(Bird):\n",
    "    def fly(self):\n",
    "        print(\"Sparrow can fly.\")\n",
    "class ostrich(Bird):\n",
    "    def fly(self):\n",
    "        print(\"Ostrich cannot fly.\")\n",
    "        "
   ]
  },
  {
   "cell_type": "code",
   "execution_count": 3,
   "metadata": {},
   "outputs": [],
   "source": [
    "obj_Bird=Bird()\n",
    "obj_sparrow=sparrow()\n",
    "obj_ostrich=ostrich()\n"
   ]
  },
  {
   "cell_type": "code",
   "execution_count": 4,
   "metadata": {},
   "outputs": [
    {
     "name": "stdout",
     "output_type": "stream",
     "text": [
      "There are many types of birds.\n"
     ]
    }
   ],
   "source": [
    "obj_Bird.intro()"
   ]
  },
  {
   "cell_type": "code",
   "execution_count": 5,
   "metadata": {},
   "outputs": [
    {
     "name": "stdout",
     "output_type": "stream",
     "text": [
      "Sparrow can fly.\n"
     ]
    }
   ],
   "source": [
    "obj_sparrow.fly()"
   ]
  },
  {
   "cell_type": "code",
   "execution_count": 6,
   "metadata": {},
   "outputs": [
    {
     "name": "stdout",
     "output_type": "stream",
     "text": [
      "Ostrich cannot fly.\n"
     ]
    }
   ],
   "source": [
    "obj_ostrich.fly()"
   ]
  },
  {
   "cell_type": "code",
   "execution_count": 12,
   "metadata": {},
   "outputs": [],
   "source": [
    "class Cat:\n",
    "    def __init__(self,name,age):\n",
    "        self.name=name\n",
    "        self.age=age\n",
    "        \n",
    "    def info(self):\n",
    "        print(\"I am a cat.My name is {self.name}. I am {self.age} years old.\")\n",
    "    def make_sound(self):\n",
    "        print(\"Meow\")\n",
    "        \n",
    "class Cow:\n",
    "    def __init__(self,name,age):\n",
    "        self.name=name\n",
    "        self.age=age\n",
    "        \n",
    "    def info(self):\n",
    "        print(\"I am a cow.My name is {self.name}. I am {self.age} years old.\")\n",
    "    def make_sound(self):\n",
    "        print(\"Moo\")\n",
    "        "
   ]
  },
  {
   "cell_type": "code",
   "execution_count": 13,
   "metadata": {},
   "outputs": [],
   "source": [
    "Cat1=Cat(\"Kitty\",2.5)\n",
    "Cow1=Cow(\"Fluffy\",4)"
   ]
  },
  {
   "cell_type": "code",
   "execution_count": 14,
   "metadata": {},
   "outputs": [
    {
     "name": "stdout",
     "output_type": "stream",
     "text": [
      "Meow\n",
      "I am a cat.My name is {self.name}. I am {self.age} years old.\n",
      "Meow\n",
      "Moo\n",
      "I am a cow.My name is {self.name}. I am {self.age} years old.\n",
      "Moo\n"
     ]
    }
   ],
   "source": [
    "for animal in (Cat1,Cow1):\n",
    "    animal.make_sound()\n",
    "    animal.info()\n",
    "    animal.make_sound()\n",
    "    "
   ]
  },
  {
   "cell_type": "code",
   "execution_count": 26,
   "metadata": {},
   "outputs": [
    {
     "name": "stdout",
     "output_type": "stream",
     "text": [
      "Circle\n",
      "I am a two-dimensional shape.\n",
      "Squares have each angle equal to 90 degrees.\n",
      "153.93804002589985\n"
     ]
    }
   ],
   "source": [
    "from math import pi\n",
    "\n",
    "class Shape:\n",
    "    def __init__(self,name):\n",
    "        self.name=name\n",
    "    \n",
    "    def area(self):\n",
    "        pass\n",
    "    def fact(self):\n",
    "        return \"I am a two-dimensional shape.\"\n",
    "    def __str__(self):\n",
    "        return self.name\n",
    "\n",
    "class Square(Shape):\n",
    "    def __init__(self, length):\n",
    "        super().__init__(\"Square\")\n",
    "        self.length=length\n",
    "        \n",
    "    def area(self):\n",
    "        return self.length**2\n",
    "    \n",
    "    def fact(self):\n",
    "        return \"Squares have each angle equal to 90 degrees.\"\n",
    "    \n",
    "class Circle(Shape):\n",
    "    def __init__(self,radius):\n",
    "        super().__init__(\"Circle\")\n",
    "        self.radius=radius\n",
    "        \n",
    "    def area(self):\n",
    "        return pi*self.radius**2\n",
    "    \n",
    "    \n",
    "    \n",
    "a= Square(4)\n",
    "b=Circle(7)\n",
    "\n",
    "print(b)\n",
    "print(b.fact())\n",
    "print(a.fact())\n",
    "print(b.area())\n",
    "\n",
    "    \n",
    "    "
   ]
  },
  {
   "cell_type": "markdown",
   "metadata": {},
   "source": [
    "# Method Overloading\n",
    "\n",
    "Method in python can be called with zero,one or more parameters. This process of calling same method in different way is called overloading.\n",
    "Overloading is a method taht can do different functionalities with same name.\n",
    "\n"
   ]
  },
  {
   "cell_type": "code",
   "execution_count": 22,
   "metadata": {},
   "outputs": [],
   "source": [
    "class VIP:\n",
    "    def Overloading(self,x=None,y=None):\n",
    "        if x==None and y==None:\n",
    "            print(\"Nothing\")\n",
    "        elif x!=None and y!=None:\n",
    "            print(\"Addition of two numbers\",x+y)\n",
    "        else:\n",
    "            print('you have passed only one argument :',x)"
   ]
  },
  {
   "cell_type": "code",
   "execution_count": 24,
   "metadata": {},
   "outputs": [
    {
     "name": "stdout",
     "output_type": "stream",
     "text": [
      "Nothing\n"
     ]
    }
   ],
   "source": [
    "obj=VIP()\n",
    "obj.Overloading()"
   ]
  },
  {
   "cell_type": "markdown",
   "metadata": {},
   "source": [
    "# Method Overriding \n",
    "\n",
    "Method overriding allow a subclass or child class to provide a specific implementation of a method that is already provided by one of its superclass or parent class"
   ]
  },
  {
   "cell_type": "code",
   "execution_count": 27,
   "metadata": {},
   "outputs": [],
   "source": [
    "class Animal:\n",
    "    #properties\n",
    "    multicellular = True\n",
    "    #Eukaryotic means cells with Nucleus\n",
    "    eukaryotic = True \n",
    "    \n",
    "    #functon breathe\n",
    "    def breathe(self):\n",
    "        print(\"I breathe oxygen.\")\n",
    "        \n",
    "    # function feed \n",
    "    def feed(self):\n",
    "        print(\"I eat food.\")"
   ]
  },
  {
   "cell_type": "code",
   "execution_count": 35,
   "metadata": {},
   "outputs": [],
   "source": [
    "class Herbivorous(Animal):\n",
    "    #function feed \n",
    "    def feed(self):\n",
    "        print(\"I eat only plants. I am vegetarion\")\n",
    "        "
   ]
  },
  {
   "cell_type": "code",
   "execution_count": 38,
   "metadata": {},
   "outputs": [],
   "source": [
    "class Omnivorous(Herbivorous):\n",
    "    #function feed \n",
    "    def feed(self):\n",
    "        print(\"I eat only animals. I am non-vegetarion\")\n",
    "        "
   ]
  },
  {
   "cell_type": "code",
   "execution_count": 43,
   "metadata": {},
   "outputs": [
    {
     "name": "stdout",
     "output_type": "stream",
     "text": [
      "I eat food.\n"
     ]
    }
   ],
   "source": [
    "an = Animal()\n",
    "an.feed()\n"
   ]
  },
  {
   "cell_type": "code",
   "execution_count": 42,
   "metadata": {},
   "outputs": [
    {
     "name": "stdout",
     "output_type": "stream",
     "text": [
      "I eat only plants. I am vegetarion\n"
     ]
    }
   ],
   "source": [
    "hr = Herbivorous()\n",
    "hr.feed()"
   ]
  },
  {
   "cell_type": "code",
   "execution_count": 44,
   "metadata": {},
   "outputs": [
    {
     "name": "stdout",
     "output_type": "stream",
     "text": [
      "I eat only animals. I am non-vegetarion\n"
     ]
    }
   ],
   "source": [
    "om=Omnivorous()\n",
    "om.feed()"
   ]
  },
  {
   "cell_type": "markdown",
   "metadata": {},
   "source": [
    "# Method Overloading\n",
    "\n",
    "Method with same name but different number of argument.\n",
    "Inheritance of optional\n",
    "Takes palce in method with in the class.\n",
    "Can be done within the class.\n",
    "Binding of overloaded method is done at compile time, hence it is apart of compile time polymorphism.\n",
    "Static method can be overloaded.\n",
    "Increase code\n",
    "Related with polymorphism\n",
    "\n",
    "\n",
    "\n",
    "\n",
    "\n",
    "# Overriding\n",
    "\n",
    "Method with same name and same no.of argumenyts.\n",
    "Inheritance must be required / must\n",
    "Method resides in diff. classes.\n",
    "At least two classes are required.\n",
    "Binding of overriding method is come at run-time it is a part of run-time polymorphism\n",
    "Static method can not be overloaded.\n",
    "Used in implementation of specifuc scenario.\n",
    "It is related with inheritance.\n"
   ]
  },
  {
   "cell_type": "code",
   "execution_count": null,
   "metadata": {},
   "outputs": [],
   "source": []
  }
 ],
 "metadata": {
  "kernelspec": {
   "display_name": "Python 3",
   "language": "python",
   "name": "python3"
  },
  "language_info": {
   "codemirror_mode": {
    "name": "ipython",
    "version": 3
   },
   "file_extension": ".py",
   "mimetype": "text/x-python",
   "name": "python",
   "nbconvert_exporter": "python",
   "pygments_lexer": "ipython3",
   "version": "3.7.3"
  }
 },
 "nbformat": 4,
 "nbformat_minor": 2
}
